{
 "cells": [
  {
   "attachments": {},
   "cell_type": "markdown",
   "metadata": {},
   "source": [
    "## **CLI**\n",
    "\n",
    "- bash\n",
    "- csh\n",
    "- dash\n",
    "- ksh\n",
    "- sh\n",
    "- tcsh\n",
    "- zsh\n",
    "\n",
    "etc"
   ]
  },
  {
   "attachments": {},
   "cell_type": "markdown",
   "metadata": {},
   "source": [
    "**chmod**\n",
    "\n",
    "Commonly used permissions:\n",
    "\n",
    "r (read): Allows reading the file or listing the directory contents.\\\n",
    "w (write): Allows modifying the file or creating, modifying, and deleting files within the directory.\\\n",
    "x (execute): Allows executing the file as a program or accessing files within the directory."
   ]
  }
 ],
 "metadata": {
  "kernelspec": {
   "display_name": "base",
   "language": "python",
   "name": "python3"
  },
  "language_info": {
   "codemirror_mode": {
    "name": "ipython",
    "version": 3
   },
   "file_extension": ".py",
   "mimetype": "text/x-python",
   "name": "python",
   "nbconvert_exporter": "python",
   "pygments_lexer": "ipython3",
   "version": "3.9.13"
  },
  "orig_nbformat": 4
 },
 "nbformat": 4,
 "nbformat_minor": 2
}
